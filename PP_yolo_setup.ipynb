{
  "nbformat": 4,
  "nbformat_minor": 0,
  "metadata": {
    "colab": {
      "name": "PP yolo setup",
      "provenance": [],
      "authorship_tag": "ABX9TyM4wn/CZ/GxugQVL9VG6drv",
      "include_colab_link": true
    },
    "kernelspec": {
      "name": "python3",
      "display_name": "Python 3"
    },
    "accelerator": "GPU"
  },
  "cells": [
    {
      "cell_type": "markdown",
      "metadata": {
        "id": "view-in-github",
        "colab_type": "text"
      },
      "source": [
        "<a href=\"https://colab.research.google.com/github/Shivam412/Important-Links-and-scripts/blob/master/PP_yolo_setup.ipynb\" target=\"_parent\"><img src=\"https://colab.research.google.com/assets/colab-badge.svg\" alt=\"Open In Colab\"/></a>"
      ]
    },
    {
      "cell_type": "markdown",
      "metadata": {
        "id": "W35xfSIrUQX5",
        "colab_type": "text"
      },
      "source": [
        "install paddle-paddle framework from \n",
        "https://www.paddlepaddle.org.cn/\n",
        "\n",
        "\n",
        "make sure to change runtime type to **GPU**\n"
      ]
    },
    {
      "cell_type": "code",
      "metadata": {
        "id": "hX0wozZ6ULNR",
        "colab_type": "code",
        "colab": {
          "base_uri": "https://localhost:8080/",
          "height": 666
        },
        "outputId": "0af9f7f5-d11d-4c6a-9592-deea88e1e4a4"
      },
      "source": [
        "# install paddle-paddle\n",
        "! python3 -m pip install paddlepaddle-gpu==1.8.4.post107 -i https://mirror.baidu.com/pypi/simple"
      ],
      "execution_count": 1,
      "outputs": [
        {
          "output_type": "stream",
          "text": [
            "Looking in indexes: https://mirror.baidu.com/pypi/simple\n",
            "Collecting paddlepaddle-gpu==1.8.4.post107\n",
            "\u001b[?25l  Downloading https://mirror.baidu.com/pypi/packages/7c/2a/76ad941b78db16f567f3d7e8255ba3c85839865729bc2ecafd039e4a6da0/paddlepaddle_gpu-1.8.4.post107-cp36-cp36m-manylinux1_x86_64.whl (406.1MB)\n",
            "\u001b[K     |████████████████████████████████| 406.1MB 37kB/s \n",
            "\u001b[?25hCollecting rarfile\n",
            "  Downloading https://mirror.baidu.com/pypi/packages/95/f4/c92fab227c7457e3b76a4096ccb655ded9deac869849cb03afbe55dfdc1e/rarfile-4.0-py3-none-any.whl\n",
            "Collecting funcsigs\n",
            "  Downloading https://mirror.baidu.com/pypi/packages/69/cb/f5be453359271714c01b9bd06126eaf2e368f1fddfff30818754b5ac2328/funcsigs-1.0.2-py2.py3-none-any.whl\n",
            "Requirement already satisfied: pyyaml in /usr/local/lib/python3.6/dist-packages (from paddlepaddle-gpu==1.8.4.post107) (3.13)\n",
            "Requirement already satisfied: scipy; python_version > \"3.5\" in /usr/local/lib/python3.6/dist-packages (from paddlepaddle-gpu==1.8.4.post107) (1.4.1)\n",
            "Requirement already satisfied: nltk; python_version >= \"3.5\" in /usr/local/lib/python3.6/dist-packages (from paddlepaddle-gpu==1.8.4.post107) (3.2.5)\n",
            "Requirement already satisfied: opencv-python in /usr/local/lib/python3.6/dist-packages (from paddlepaddle-gpu==1.8.4.post107) (4.1.2.30)\n",
            "Requirement already satisfied: six in /usr/local/lib/python3.6/dist-packages (from paddlepaddle-gpu==1.8.4.post107) (1.15.0)\n",
            "Requirement already satisfied: Pillow in /usr/local/lib/python3.6/dist-packages (from paddlepaddle-gpu==1.8.4.post107) (7.0.0)\n",
            "Requirement already satisfied: pathlib in /usr/local/lib/python3.6/dist-packages (from paddlepaddle-gpu==1.8.4.post107) (1.0.1)\n",
            "Requirement already satisfied: graphviz in /usr/local/lib/python3.6/dist-packages (from paddlepaddle-gpu==1.8.4.post107) (0.10.1)\n",
            "Requirement already satisfied: gast>=0.3.3 in /usr/local/lib/python3.6/dist-packages (from paddlepaddle-gpu==1.8.4.post107) (0.3.3)\n",
            "Collecting objgraph\n",
            "  Downloading https://mirror.baidu.com/pypi/packages/7d/21/b8ea10bea21a3ecb603ab0a8a59e49282d83eadba16e47464193b0b70dce/objgraph-3.4.1-py2.py3-none-any.whl\n",
            "Requirement already satisfied: astor in /usr/local/lib/python3.6/dist-packages (from paddlepaddle-gpu==1.8.4.post107) (0.8.1)\n",
            "Requirement already satisfied: matplotlib; python_version >= \"3.6\" in /usr/local/lib/python3.6/dist-packages (from paddlepaddle-gpu==1.8.4.post107) (3.2.2)\n",
            "Requirement already satisfied: numpy>=1.12; python_version >= \"3.5\" in /usr/local/lib/python3.6/dist-packages (from paddlepaddle-gpu==1.8.4.post107) (1.18.5)\n",
            "Requirement already satisfied: decorator in /usr/local/lib/python3.6/dist-packages (from paddlepaddle-gpu==1.8.4.post107) (4.4.2)\n",
            "Requirement already satisfied: requests>=2.20.0 in /usr/local/lib/python3.6/dist-packages (from paddlepaddle-gpu==1.8.4.post107) (2.23.0)\n",
            "Requirement already satisfied: prettytable in /usr/local/lib/python3.6/dist-packages (from paddlepaddle-gpu==1.8.4.post107) (0.7.2)\n",
            "Requirement already satisfied: protobuf>=3.1.0 in /usr/local/lib/python3.6/dist-packages (from paddlepaddle-gpu==1.8.4.post107) (3.12.4)\n",
            "Requirement already satisfied: cycler>=0.10 in /usr/local/lib/python3.6/dist-packages (from matplotlib; python_version >= \"3.6\"->paddlepaddle-gpu==1.8.4.post107) (0.10.0)\n",
            "Requirement already satisfied: python-dateutil>=2.1 in /usr/local/lib/python3.6/dist-packages (from matplotlib; python_version >= \"3.6\"->paddlepaddle-gpu==1.8.4.post107) (2.8.1)\n",
            "Requirement already satisfied: kiwisolver>=1.0.1 in /usr/local/lib/python3.6/dist-packages (from matplotlib; python_version >= \"3.6\"->paddlepaddle-gpu==1.8.4.post107) (1.2.0)\n",
            "Requirement already satisfied: pyparsing!=2.0.4,!=2.1.2,!=2.1.6,>=2.0.1 in /usr/local/lib/python3.6/dist-packages (from matplotlib; python_version >= \"3.6\"->paddlepaddle-gpu==1.8.4.post107) (2.4.7)\n",
            "Requirement already satisfied: idna<3,>=2.5 in /usr/local/lib/python3.6/dist-packages (from requests>=2.20.0->paddlepaddle-gpu==1.8.4.post107) (2.10)\n",
            "Requirement already satisfied: chardet<4,>=3.0.2 in /usr/local/lib/python3.6/dist-packages (from requests>=2.20.0->paddlepaddle-gpu==1.8.4.post107) (3.0.4)\n",
            "Requirement already satisfied: urllib3!=1.25.0,!=1.25.1,<1.26,>=1.21.1 in /usr/local/lib/python3.6/dist-packages (from requests>=2.20.0->paddlepaddle-gpu==1.8.4.post107) (1.24.3)\n",
            "Requirement already satisfied: certifi>=2017.4.17 in /usr/local/lib/python3.6/dist-packages (from requests>=2.20.0->paddlepaddle-gpu==1.8.4.post107) (2020.6.20)\n",
            "Requirement already satisfied: setuptools in /usr/local/lib/python3.6/dist-packages (from protobuf>=3.1.0->paddlepaddle-gpu==1.8.4.post107) (49.6.0)\n",
            "Installing collected packages: rarfile, funcsigs, objgraph, paddlepaddle-gpu\n",
            "Successfully installed funcsigs-1.0.2 objgraph-3.4.1 paddlepaddle-gpu-1.8.4.post107 rarfile-4.0\n"
          ],
          "name": "stdout"
        }
      ]
    },
    {
      "cell_type": "code",
      "metadata": {
        "id": "bgPyl37NV6Xr",
        "colab_type": "code",
        "colab": {
          "base_uri": "https://localhost:8080/",
          "height": 102
        },
        "outputId": "4d0ca7d5-7f8e-4f3b-ff43-d8454b5fec9b"
      },
      "source": [
        "# https://github.com/PaddlePaddle/PaddleDetection/blob/release/0.4/docs/tutorials/INSTALL.md\n",
        "\n",
        "# To check PaddlePaddle installation in your Python interpreter\n",
        "import paddle.fluid as fluid\n",
        "fluid.install_check.run_check()\n",
        "\n",
        "# To check PaddlePaddle version\n",
        "!python -c \"import paddle; print(paddle.__version__)\""
      ],
      "execution_count": 2,
      "outputs": [
        {
          "output_type": "stream",
          "text": [
            "Running Verify Fluid Program ... \n",
            "Your Paddle Fluid works well on SINGLE GPU or CPU.\n",
            "Your Paddle Fluid works well on MUTIPLE GPU or CPU.\n",
            "Your Paddle Fluid is installed successfully! Let's start deep Learning with Paddle Fluid now\n",
            "1.8.4\n"
          ],
          "name": "stdout"
        }
      ]
    },
    {
      "cell_type": "code",
      "metadata": {
        "id": "NgZ5cqQRXzmC",
        "colab_type": "code",
        "colab": {
          "base_uri": "https://localhost:8080/",
          "height": 411
        },
        "outputId": "aea180fa-9869-45d7-d81c-344dd7fd37df"
      },
      "source": [
        "# Coco-API\n",
        "!pip install \"git+https://github.com/cocodataset/cocoapi.git#subdirectory=PythonAPI\"\n"
      ],
      "execution_count": 3,
      "outputs": [
        {
          "output_type": "stream",
          "text": [
            "Collecting git+https://github.com/cocodataset/cocoapi.git#subdirectory=PythonAPI\n",
            "  Cloning https://github.com/cocodataset/cocoapi.git to /tmp/pip-req-build-o3lmirvo\n",
            "  Running command git clone -q https://github.com/cocodataset/cocoapi.git /tmp/pip-req-build-o3lmirvo\n",
            "Requirement already satisfied: setuptools>=18.0 in /usr/local/lib/python3.6/dist-packages (from pycocotools==2.0) (49.6.0)\n",
            "Requirement already satisfied: cython>=0.27.3 in /usr/local/lib/python3.6/dist-packages (from pycocotools==2.0) (0.29.21)\n",
            "Requirement already satisfied: matplotlib>=2.1.0 in /usr/local/lib/python3.6/dist-packages (from pycocotools==2.0) (3.2.2)\n",
            "Requirement already satisfied: kiwisolver>=1.0.1 in /usr/local/lib/python3.6/dist-packages (from matplotlib>=2.1.0->pycocotools==2.0) (1.2.0)\n",
            "Requirement already satisfied: numpy>=1.11 in /usr/local/lib/python3.6/dist-packages (from matplotlib>=2.1.0->pycocotools==2.0) (1.18.5)\n",
            "Requirement already satisfied: python-dateutil>=2.1 in /usr/local/lib/python3.6/dist-packages (from matplotlib>=2.1.0->pycocotools==2.0) (2.8.1)\n",
            "Requirement already satisfied: cycler>=0.10 in /usr/local/lib/python3.6/dist-packages (from matplotlib>=2.1.0->pycocotools==2.0) (0.10.0)\n",
            "Requirement already satisfied: pyparsing!=2.0.4,!=2.1.2,!=2.1.6,>=2.0.1 in /usr/local/lib/python3.6/dist-packages (from matplotlib>=2.1.0->pycocotools==2.0) (2.4.7)\n",
            "Requirement already satisfied: six>=1.5 in /usr/local/lib/python3.6/dist-packages (from python-dateutil>=2.1->matplotlib>=2.1.0->pycocotools==2.0) (1.15.0)\n",
            "Building wheels for collected packages: pycocotools\n",
            "  Building wheel for pycocotools (setup.py) ... \u001b[?25l\u001b[?25hdone\n",
            "  Created wheel for pycocotools: filename=pycocotools-2.0-cp36-cp36m-linux_x86_64.whl size=266458 sha256=a6bfa9641ed63ad43fba59d7998357951ce92d24f9c9a8fdea640d8c4d7d84a7\n",
            "  Stored in directory: /tmp/pip-ephem-wheel-cache-_3svn_vw/wheels/90/51/41/646daf401c3bc408ff10de34ec76587a9b3ebfac8d21ca5c3a\n",
            "Successfully built pycocotools\n",
            "Installing collected packages: pycocotools\n",
            "  Found existing installation: pycocotools 2.0.1\n",
            "    Uninstalling pycocotools-2.0.1:\n",
            "      Successfully uninstalled pycocotools-2.0.1\n",
            "Successfully installed pycocotools-2.0\n"
          ],
          "name": "stdout"
        }
      ]
    },
    {
      "cell_type": "code",
      "metadata": {
        "id": "hWro4TBJX6Fs",
        "colab_type": "code",
        "colab": {
          "base_uri": "https://localhost:8080/",
          "height": 136
        },
        "outputId": "1275a5a4-c845-4ca5-c445-824b340bef77"
      },
      "source": [
        "# Clone PaddleDetection which contains all modules for object detection.\n",
        "! git clone https://github.com/PaddlePaddle/PaddleDetection.git"
      ],
      "execution_count": 4,
      "outputs": [
        {
          "output_type": "stream",
          "text": [
            "Cloning into 'PaddleDetection'...\n",
            "remote: Enumerating objects: 46, done.\u001b[K\n",
            "remote: Counting objects: 100% (46/46), done.\u001b[K\n",
            "remote: Compressing objects: 100% (43/43), done.\u001b[K\n",
            "remote: Total 6356 (delta 14), reused 12 (delta 2), pack-reused 6310\u001b[K\n",
            "Receiving objects: 100% (6356/6356), 20.87 MiB | 2.93 MiB/s, done.\n",
            "Resolving deltas: 100% (4546/4546), done.\n"
          ],
          "name": "stdout"
        }
      ]
    },
    {
      "cell_type": "code",
      "metadata": {
        "id": "ki3qji-nYMjt",
        "colab_type": "code",
        "colab": {
          "base_uri": "https://localhost:8080/",
          "height": 1000
        },
        "outputId": "e633f070-176e-4997-c873-0419dbdf04d9"
      },
      "source": [
        "# change directory\n",
        "%cd PaddleDetection/\n",
        "\n",
        "# install all dependencies \n",
        "! pip install -r requirements.txt"
      ],
      "execution_count": 6,
      "outputs": [
        {
          "output_type": "stream",
          "text": [
            "/content/PaddleDetection\n",
            "Requirement already satisfied: tqdm in /usr/local/lib/python3.6/dist-packages (from -r requirements.txt (line 1)) (4.41.1)\n",
            "Requirement already satisfied: typeguard in /usr/local/lib/python3.6/dist-packages (from -r requirements.txt (line 2)) (2.7.1)\n",
            "Collecting visualdl>=2.0.0b\n",
            "\u001b[?25l  Downloading https://files.pythonhosted.org/packages/c3/9b/d9dbe8efee8d3f70c923b2c9b6351e1a401f56af07c1bb3651921349dcc2/visualdl-2.0.2-py3-none-any.whl (3.0MB)\n",
            "\u001b[K     |████████████████████████████████| 3.0MB 7.0MB/s \n",
            "\u001b[?25hRequirement already satisfied: opencv-python in /usr/local/lib/python3.6/dist-packages (from -r requirements.txt (line 4)) (4.1.2.30)\n",
            "Requirement already satisfied: PyYAML in /usr/local/lib/python3.6/dist-packages (from -r requirements.txt (line 5)) (3.13)\n",
            "Requirement already satisfied: shapely in /usr/local/lib/python3.6/dist-packages (from -r requirements.txt (line 6)) (1.7.1)\n",
            "Requirement already satisfied: numpy in /usr/local/lib/python3.6/dist-packages (from visualdl>=2.0.0b->-r requirements.txt (line 3)) (1.18.5)\n",
            "Collecting pre-commit\n",
            "\u001b[?25l  Downloading https://files.pythonhosted.org/packages/2c/88/966da62ec93566c221bf8bf0c1b7f04e70f002960a98da05d3fd8bc3b2e7/pre_commit-2.7.1-py2.py3-none-any.whl (171kB)\n",
            "\u001b[K     |████████████████████████████████| 174kB 41.0MB/s \n",
            "\u001b[?25hRequirement already satisfied: Pillow>=7.0.0 in /usr/local/lib/python3.6/dist-packages (from visualdl>=2.0.0b->-r requirements.txt (line 3)) (7.0.0)\n",
            "Requirement already satisfied: flask>=1.1.1 in /usr/local/lib/python3.6/dist-packages (from visualdl>=2.0.0b->-r requirements.txt (line 3)) (1.1.2)\n",
            "Requirement already satisfied: protobuf>=3.11.0 in /usr/local/lib/python3.6/dist-packages (from visualdl>=2.0.0b->-r requirements.txt (line 3)) (3.12.4)\n",
            "Requirement already satisfied: six>=1.14.0 in /usr/local/lib/python3.6/dist-packages (from visualdl>=2.0.0b->-r requirements.txt (line 3)) (1.15.0)\n",
            "Collecting flake8>=3.7.9\n",
            "\u001b[?25l  Downloading https://files.pythonhosted.org/packages/6c/20/6326a9a0c6f0527612bae748c4c03df5cd69cf06dfb2cf59d85c6e165a6a/flake8-3.8.3-py2.py3-none-any.whl (72kB)\n",
            "\u001b[K     |████████████████████████████████| 81kB 9.0MB/s \n",
            "\u001b[?25hCollecting Flask-Babel>=1.0.0\n",
            "  Downloading https://files.pythonhosted.org/packages/ab/3e/02331179ffab8b79e0383606a028b6a60fb1b4419b84935edd43223406a0/Flask_Babel-2.0.0-py3-none-any.whl\n",
            "Requirement already satisfied: requests in /usr/local/lib/python3.6/dist-packages (from visualdl>=2.0.0b->-r requirements.txt (line 3)) (2.23.0)\n",
            "Collecting importlib-resources; python_version < \"3.7\"\n",
            "  Downloading https://files.pythonhosted.org/packages/ba/03/0f9595c0c2ef12590877f3c47e5f579759ce5caf817f8256d5dcbd8a1177/importlib_resources-3.0.0-py2.py3-none-any.whl\n",
            "Collecting nodeenv>=0.11.1\n",
            "  Downloading https://files.pythonhosted.org/packages/ae/d0/efdf54539948315cc76e5a66b709212963101d002822c3b54369dbf9b5e0/nodeenv-1.5.0-py2.py3-none-any.whl\n",
            "Collecting identify>=1.0.0\n",
            "\u001b[?25l  Downloading https://files.pythonhosted.org/packages/2f/9b/a5104b4747b26d750ce4f8069aed7bb7bc64d81d03cdfe4280e39fba99c1/identify-1.4.30-py2.py3-none-any.whl (97kB)\n",
            "\u001b[K     |████████████████████████████████| 102kB 10.4MB/s \n",
            "\u001b[?25hCollecting cfgv>=2.0.0\n",
            "  Downloading https://files.pythonhosted.org/packages/45/cd/3878c9248e59e5e2ebd0dc741ab984b18d86e7283ae9b127b05fc287d239/cfgv-3.2.0-py2.py3-none-any.whl\n",
            "Requirement already satisfied: toml in /usr/local/lib/python3.6/dist-packages (from pre-commit->visualdl>=2.0.0b->-r requirements.txt (line 3)) (0.10.1)\n",
            "Requirement already satisfied: importlib-metadata; python_version < \"3.8\" in /usr/local/lib/python3.6/dist-packages (from pre-commit->visualdl>=2.0.0b->-r requirements.txt (line 3)) (1.7.0)\n",
            "Collecting virtualenv>=20.0.8\n",
            "\u001b[?25l  Downloading https://files.pythonhosted.org/packages/12/51/36c685ff2c1b2f7b4b5db29f3153159102ae0e0adaff3a26fd1448232e06/virtualenv-20.0.31-py2.py3-none-any.whl (4.9MB)\n",
            "\u001b[K     |████████████████████████████████| 4.9MB 43.2MB/s \n",
            "\u001b[?25hRequirement already satisfied: Werkzeug>=0.15 in /usr/local/lib/python3.6/dist-packages (from flask>=1.1.1->visualdl>=2.0.0b->-r requirements.txt (line 3)) (1.0.1)\n",
            "Requirement already satisfied: itsdangerous>=0.24 in /usr/local/lib/python3.6/dist-packages (from flask>=1.1.1->visualdl>=2.0.0b->-r requirements.txt (line 3)) (1.1.0)\n",
            "Requirement already satisfied: click>=5.1 in /usr/local/lib/python3.6/dist-packages (from flask>=1.1.1->visualdl>=2.0.0b->-r requirements.txt (line 3)) (7.1.2)\n",
            "Requirement already satisfied: Jinja2>=2.10.1 in /usr/local/lib/python3.6/dist-packages (from flask>=1.1.1->visualdl>=2.0.0b->-r requirements.txt (line 3)) (2.11.2)\n",
            "Requirement already satisfied: setuptools in /usr/local/lib/python3.6/dist-packages (from protobuf>=3.11.0->visualdl>=2.0.0b->-r requirements.txt (line 3)) (49.6.0)\n",
            "Collecting pyflakes<2.3.0,>=2.2.0\n",
            "\u001b[?25l  Downloading https://files.pythonhosted.org/packages/69/5b/fd01b0c696f2f9a6d2c839883b642493b431f28fa32b29abc465ef675473/pyflakes-2.2.0-py2.py3-none-any.whl (66kB)\n",
            "\u001b[K     |████████████████████████████████| 71kB 7.5MB/s \n",
            "\u001b[?25hCollecting mccabe<0.7.0,>=0.6.0\n",
            "  Downloading https://files.pythonhosted.org/packages/87/89/479dc97e18549e21354893e4ee4ef36db1d237534982482c3681ee6e7b57/mccabe-0.6.1-py2.py3-none-any.whl\n",
            "Collecting pycodestyle<2.7.0,>=2.6.0a1\n",
            "\u001b[?25l  Downloading https://files.pythonhosted.org/packages/10/5b/88879fb861ab79aef45c7e199cae3ef7af487b5603dcb363517a50602dd7/pycodestyle-2.6.0-py2.py3-none-any.whl (41kB)\n",
            "\u001b[K     |████████████████████████████████| 51kB 6.6MB/s \n",
            "\u001b[?25hRequirement already satisfied: Babel>=2.3 in /usr/local/lib/python3.6/dist-packages (from Flask-Babel>=1.0.0->visualdl>=2.0.0b->-r requirements.txt (line 3)) (2.8.0)\n",
            "Requirement already satisfied: pytz in /usr/local/lib/python3.6/dist-packages (from Flask-Babel>=1.0.0->visualdl>=2.0.0b->-r requirements.txt (line 3)) (2018.9)\n",
            "Requirement already satisfied: urllib3!=1.25.0,!=1.25.1,<1.26,>=1.21.1 in /usr/local/lib/python3.6/dist-packages (from requests->visualdl>=2.0.0b->-r requirements.txt (line 3)) (1.24.3)\n",
            "Requirement already satisfied: certifi>=2017.4.17 in /usr/local/lib/python3.6/dist-packages (from requests->visualdl>=2.0.0b->-r requirements.txt (line 3)) (2020.6.20)\n",
            "Requirement already satisfied: idna<3,>=2.5 in /usr/local/lib/python3.6/dist-packages (from requests->visualdl>=2.0.0b->-r requirements.txt (line 3)) (2.10)\n",
            "Requirement already satisfied: chardet<4,>=3.0.2 in /usr/local/lib/python3.6/dist-packages (from requests->visualdl>=2.0.0b->-r requirements.txt (line 3)) (3.0.4)\n",
            "Requirement already satisfied: zipp>=0.4; python_version < \"3.8\" in /usr/local/lib/python3.6/dist-packages (from importlib-resources; python_version < \"3.7\"->pre-commit->visualdl>=2.0.0b->-r requirements.txt (line 3)) (3.1.0)\n",
            "Collecting appdirs<2,>=1.4.3\n",
            "  Downloading https://files.pythonhosted.org/packages/3b/00/2344469e2084fb287c2e0b57b72910309874c3245463acd6cf5e3db69324/appdirs-1.4.4-py2.py3-none-any.whl\n",
            "Requirement already satisfied: filelock<4,>=3.0.0 in /usr/local/lib/python3.6/dist-packages (from virtualenv>=20.0.8->pre-commit->visualdl>=2.0.0b->-r requirements.txt (line 3)) (3.0.12)\n",
            "Collecting distlib<1,>=0.3.1\n",
            "\u001b[?25l  Downloading https://files.pythonhosted.org/packages/f5/0a/490fa011d699bb5a5f3a0cf57de82237f52a6db9d40f33c53b2736c9a1f9/distlib-0.3.1-py2.py3-none-any.whl (335kB)\n",
            "\u001b[K     |████████████████████████████████| 337kB 42.9MB/s \n",
            "\u001b[?25hRequirement already satisfied: MarkupSafe>=0.23 in /usr/local/lib/python3.6/dist-packages (from Jinja2>=2.10.1->flask>=1.1.1->visualdl>=2.0.0b->-r requirements.txt (line 3)) (1.1.1)\n",
            "\u001b[31mERROR: pre-commit 2.7.1 has requirement pyyaml>=5.1, but you'll have pyyaml 3.13 which is incompatible.\u001b[0m\n",
            "Installing collected packages: importlib-resources, nodeenv, identify, cfgv, appdirs, distlib, virtualenv, pre-commit, pyflakes, mccabe, pycodestyle, flake8, Flask-Babel, visualdl\n",
            "Successfully installed Flask-Babel-2.0.0 appdirs-1.4.4 cfgv-3.2.0 distlib-0.3.1 flake8-3.8.3 identify-1.4.30 importlib-resources-3.0.0 mccabe-0.6.1 nodeenv-1.5.0 pre-commit-2.7.1 pycodestyle-2.6.0 pyflakes-2.2.0 virtualenv-20.0.31 visualdl-2.0.2\n"
          ],
          "name": "stdout"
        }
      ]
    },
    {
      "cell_type": "code",
      "metadata": {
        "id": "J8rmS2B3YUM3",
        "colab_type": "code",
        "colab": {
          "base_uri": "https://localhost:8080/",
          "height": 102
        },
        "outputId": "a9c79832-0a72-4ae2-cd54-247a5ef77157"
      },
      "source": [
        "# test it before running\n",
        "! python ppdet/modeling/tests/test_architectures.py"
      ],
      "execution_count": 7,
      "outputs": [
        {
          "output_type": "stream",
          "text": [
            "ss..........\n",
            "----------------------------------------------------------------------\n",
            "Ran 12 tests in 3.619s\n",
            "\n",
            "OK (skipped=2)\n"
          ],
          "name": "stdout"
        }
      ]
    },
    {
      "cell_type": "code",
      "metadata": {
        "id": "6GoxtSPoYpIB",
        "colab_type": "code",
        "colab": {
          "base_uri": "https://localhost:8080/",
          "height": 357
        },
        "outputId": "82756a5f-addc-41b1-c914-8cc8bd4edf73"
      },
      "source": [
        "# GPU\n",
        "! nvidia-smi"
      ],
      "execution_count": 8,
      "outputs": [
        {
          "output_type": "stream",
          "text": [
            "Fri Sep  4 09:24:41 2020       \n",
            "+-----------------------------------------------------------------------------+\n",
            "| NVIDIA-SMI 450.66       Driver Version: 418.67       CUDA Version: 10.1     |\n",
            "|-------------------------------+----------------------+----------------------+\n",
            "| GPU  Name        Persistence-M| Bus-Id        Disp.A | Volatile Uncorr. ECC |\n",
            "| Fan  Temp  Perf  Pwr:Usage/Cap|         Memory-Usage | GPU-Util  Compute M. |\n",
            "|                               |                      |               MIG M. |\n",
            "|===============================+======================+======================|\n",
            "|   0  Tesla K80           Off  | 00000000:00:04.0 Off |                    0 |\n",
            "| N/A   55C    P0    60W / 149W |    226MiB / 11441MiB |      0%      Default |\n",
            "|                               |                      |                 ERR! |\n",
            "+-------------------------------+----------------------+----------------------+\n",
            "                                                                               \n",
            "+-----------------------------------------------------------------------------+\n",
            "| Processes:                                                                  |\n",
            "|  GPU   GI   CI        PID   Type   Process name                  GPU Memory |\n",
            "|        ID   ID                                                   Usage      |\n",
            "|=============================================================================|\n",
            "|  No running processes found                                                 |\n",
            "+-----------------------------------------------------------------------------+\n"
          ],
          "name": "stdout"
        }
      ]
    },
    {
      "cell_type": "code",
      "metadata": {
        "id": "pW2IC5_fbqQ9",
        "colab_type": "code",
        "colab": {
          "base_uri": "https://localhost:8080/",
          "height": 173
        },
        "outputId": "d2e003a6-743b-4859-9a9a-0153714314b3"
      },
      "source": [
        "# export model, model will be save in output/ppyolo as default\n",
        "! python tools/export_model.py -c configs/ppyolo/ppyolo.yml -o weights=https://paddlemodels.bj.bcebos.com/object_detection/ppyolo.pdparams"
      ],
      "execution_count": 9,
      "outputs": [
        {
          "output_type": "stream",
          "text": [
            "2020-09-04 09:26:12,871-INFO: Downloading ppyolo.pdparams from https://paddlemodels.bj.bcebos.com/object_detection/ppyolo.pdparams\n",
            "100% 321484/321484 [01:20<00:00, 4014.48KB/s]\n",
            "/usr/local/lib/python3.6/dist-packages/paddle/fluid/io.py:1998: UserWarning: This list is not set, Because of Paramerter not found in program. There are: create_parameter_0.w_0 create_parameter_1.w_0 create_parameter_2.w_0 create_parameter_3.w_0 create_parameter_4.w_0 create_parameter_5.w_0 create_parameter_6.w_0 create_parameter_7.w_0 create_parameter_8.w_0 create_parameter_9.w_0 create_parameter_10.w_0 create_parameter_11.w_0 create_parameter_12.w_0 create_parameter_13.w_0 create_parameter_14.w_0 create_parameter_15.w_0 create_parameter_16.w_0 create_parameter_17.w_0 create_parameter_18.w_0 create_parameter_19.w_0 create_parameter_20.w_0 create_parameter_21.w_0 create_parameter_22.w_0 create_parameter_23.w_0 create_parameter_24.w_0 create_parameter_25.w_0 create_parameter_26.w_0 create_parameter_27.w_0 create_parameter_28.w_0 create_parameter_29.w_0 create_parameter_30.w_0 create_parameter_31.w_0 create_parameter_32.w_0 create_parameter_33.w_0 create_parameter_34.w_0 create_parameter_35.w_0 create_parameter_36.w_0 create_parameter_37.w_0 create_parameter_38.w_0 create_parameter_39.w_0 create_parameter_40.w_0 create_parameter_41.w_0 create_parameter_42.w_0 create_parameter_43.w_0 create_parameter_44.w_0 create_parameter_45.w_0 create_parameter_46.w_0 create_parameter_47.w_0\n",
            "  format(\" \".join(unused_para_list)))\n",
            "2020-09-04 09:27:37,476-INFO: save_inference_model pruned unused feed variables im_id\n",
            "2020-09-04 09:27:37,476-INFO: Export inference model to output/ppyolo, input: ['image', 'im_size'], output: ['matrix_nms_0.tmp_0']...\n",
            "2020-09-04 09:27:38,475-INFO: Not found annotation file annotations/instances_val2017.json, load coco17 categories.\n",
            "2020-09-04 09:27:38,480-INFO: Export inference config file to output/ppyolo/infer_cfg.yml\n"
          ],
          "name": "stdout"
        }
      ]
    },
    {
      "cell_type": "code",
      "metadata": {
        "id": "ke2ISL-mdL_i",
        "colab_type": "code",
        "colab": {
          "base_uri": "https://localhost:8080/",
          "height": 629
        },
        "outputId": "b4ad2d50-0ee1-4cb4-e7e2-382eb9c62903"
      },
      "source": [
        "# inference on single image\n",
        "! CUDA_VISIBLE_DEVICES=0 python deploy/python/infer.py --model_dir=output/ppyolo --image_file=demo/000000014439_640x640.jpg --use_gpu=True"
      ],
      "execution_count": 10,
      "outputs": [
        {
          "output_type": "stream",
          "text": [
            "-----------  Running Arguments -----------\n",
            "camera_id: -1\n",
            "image_file: demo/000000014439_640x640.jpg\n",
            "model_dir: output/ppyolo\n",
            "output_dir: output\n",
            "run_benchmark: False\n",
            "run_mode: fluid\n",
            "threshold: 0.5\n",
            "use_gpu: True\n",
            "video_file: \n",
            "------------------------------------------\n",
            "-----------  Model Configuration -----------\n",
            "Model Arch: YOLO\n",
            "Use Padddle Executor: False\n",
            "Transform Order: \n",
            "--transform op: Resize\n",
            "--transform op: Normalize\n",
            "--transform op: Permute\n",
            "--------------------------------------------\n",
            "Inference: 156.85486793518066 ms per batch image\n",
            "class_id:0, confidence:0.9706,left_top:[162.45,129.03], right_bottom:[197.91,265.32]\n",
            "class_id:0, confidence:0.9388,left_top:[103.72,71.64], right_bottom:[126.64,146.47]\n",
            "class_id:0, confidence:0.9118,left_top:[409.95,133.68], right_bottom:[502.74,450.40]\n",
            "class_id:56, confidence:0.8713,left_top:[74.22,192.34], right_bottom:[102.45,242.62]\n",
            "class_id:33, confidence:0.8639,left_top:[156.89,139.70], right_bottom:[615.06,511.09]\n",
            "class_id:0, confidence:0.8600,left_top:[579.72,179.68], right_bottom:[611.42,318.61]\n",
            "class_id:0, confidence:0.8297,left_top:[267.83,133.70], right_bottom:[293.57,265.50]\n",
            "class_id:0, confidence:0.8123,left_top:[348.77,69.83], right_bottom:[364.52,154.91]\n",
            "class_id:0, confidence:0.7573,left_top:[328.89,61.07], right_bottom:[345.97,126.10]\n",
            "class_id:0, confidence:0.6951,left_top:[378.20,62.23], right_bottom:[394.43,132.38]\n",
            "class_id:0, confidence:0.6642,left_top:[169.16,74.80], right_bottom:[177.95,95.12]\n",
            "class_id:0, confidence:0.6283,left_top:[507.28,183.37], right_bottom:[594.20,429.42]\n",
            "class_id:0, confidence:0.6221,left_top:[27.15,186.72], right_bottom:[59.72,241.77]\n",
            "class_id:0, confidence:0.6062,left_top:[363.89,91.40], right_bottom:[380.72,170.73]\n",
            "class_id:0, confidence:0.5175,left_top:[186.38,70.53], right_bottom:[199.04,94.65]\n",
            "save result to: output/000000014439_640x640.jpg\n"
          ],
          "name": "stdout"
        }
      ]
    },
    {
      "cell_type": "code",
      "metadata": {
        "id": "taj4o95udSGA",
        "colab_type": "code",
        "colab": {
          "base_uri": "https://localhost:8080/",
          "height": 309
        },
        "outputId": "d52aa816-cb70-4c6d-87af-c49b23ec2edf"
      },
      "source": [
        "# inference on all images in a directory\n",
        "! CUDA_VISIBLE_DEVICES=0 python tools/infer.py -c configs/ppyolo/ppyolo.yml -o weights=https://paddlemodels.bj.bcebos.com/object_detection/ppyolo.pdparams --infer_dir=demo"
      ],
      "execution_count": 11,
      "outputs": [
        {
          "output_type": "stream",
          "text": [
            "2020-09-04 09:34:27,256-INFO: Found 5 inference images in total.\n",
            "W0904 09:34:27.978180   617 device_context.cc:252] Please NOTE: device: 0, CUDA Capability: 37, Driver API Version: 10.1, Runtime API Version: 10.0\n",
            "W0904 09:34:27.987126   617 device_context.cc:260] device: 0, cuDNN Version: 7.6.\n",
            "/usr/local/lib/python3.6/dist-packages/paddle/fluid/io.py:1998: UserWarning: This list is not set, Because of Paramerter not found in program. There are: create_parameter_0.w_0 create_parameter_1.w_0 create_parameter_2.w_0 create_parameter_3.w_0 create_parameter_4.w_0 create_parameter_5.w_0 create_parameter_6.w_0 create_parameter_7.w_0 create_parameter_8.w_0 create_parameter_9.w_0 create_parameter_10.w_0 create_parameter_11.w_0 create_parameter_12.w_0 create_parameter_13.w_0 create_parameter_14.w_0 create_parameter_15.w_0 create_parameter_16.w_0 create_parameter_17.w_0 create_parameter_18.w_0 create_parameter_19.w_0 create_parameter_20.w_0 create_parameter_21.w_0 create_parameter_22.w_0 create_parameter_23.w_0 create_parameter_24.w_0 create_parameter_25.w_0 create_parameter_26.w_0 create_parameter_27.w_0 create_parameter_28.w_0 create_parameter_29.w_0 create_parameter_30.w_0 create_parameter_31.w_0 create_parameter_32.w_0 create_parameter_33.w_0 create_parameter_34.w_0 create_parameter_35.w_0 create_parameter_36.w_0 create_parameter_37.w_0 create_parameter_38.w_0 create_parameter_39.w_0 create_parameter_40.w_0 create_parameter_41.w_0 create_parameter_42.w_0 create_parameter_43.w_0 create_parameter_44.w_0 create_parameter_45.w_0 create_parameter_46.w_0 create_parameter_47.w_0\n",
            "  format(\" \".join(unused_para_list)))\n",
            "2020-09-04 09:34:31,309-INFO: Not found annotation file annotations/instances_val2017.json, load coco17 categories.\n",
            "2020-09-04 09:34:31,651-INFO: Infer iter 0\n",
            "2020-09-04 09:34:31,675-INFO: Detection bbox results save in output/000000014439.jpg\n",
            "2020-09-04 09:34:31,900-INFO: Infer iter 1\n",
            "2020-09-04 09:34:31,911-INFO: Detection bbox results save in output/000000014439_640x640.jpg\n",
            "2020-09-04 09:34:32,127-INFO: Infer iter 2\n",
            "2020-09-04 09:34:32,135-INFO: Detection bbox results save in output/000000570688.jpg\n",
            "2020-09-04 09:34:32,334-INFO: Infer iter 3\n",
            "2020-09-04 09:34:32,343-INFO: Detection bbox results save in output/000000087038.jpg\n",
            "2020-09-04 09:34:32,523-INFO: Infer iter 4\n",
            "2020-09-04 09:34:32,548-INFO: Detection bbox results save in output/orange_71.jpg\n"
          ],
          "name": "stdout"
        }
      ]
    }
  ]
}